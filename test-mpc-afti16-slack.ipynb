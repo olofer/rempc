{
 "cells": [
  {
   "cell_type": "code",
   "execution_count": 1,
   "metadata": {},
   "outputs": [],
   "source": [
    "import numpy as np\n",
    "import matplotlib.pyplot as plt\n",
    "import rempc\n",
    "from scipy.signal import cont2discrete"
   ]
  },
  {
   "cell_type": "code",
   "execution_count": 2,
   "metadata": {},
   "outputs": [],
   "source": [
    "# Define continuous-time system matrices\n",
    "Ac = np.array([[-.151,-60.5651,0,-32.174],\n",
    "               [-.0001,-1.3411,.9929,0],\n",
    "               [.00018,43.2541,-.86939,0],\n",
    "               [0,0,1,0]])\n",
    "\n",
    "Bc = np.array([[-2.516,-13.136],\n",
    "               [-.1689,-.2514],\n",
    "               [-17.251,-1.5766],\n",
    "               [0,0]])\n",
    "\n",
    "Cc = np.array([[0,1,0,0],\n",
    "               [0,0,0,1]])\n",
    "\n",
    "Dc = np.array([[0.0,0.0],\n",
    "               [0.0,0.0]])\n",
    "\n",
    "# Discretization time Ts, and simulation stop time \n",
    "Ts = 0.05\n",
    "Tstop = 7.0\n",
    "\n",
    "# Zero-order hold --> discrete time system\n",
    "dtsys = cont2discrete((Ac, Bc, Cc, Dc), Ts)\n",
    "Ad, Bd, Cd, Dd = dtsys[0], dtsys[1], dtsys[2], dtsys[3]\n",
    "assert np.all(Dd == 0.0)"
   ]
  },
  {
   "cell_type": "code",
   "execution_count": 7,
   "metadata": {},
   "outputs": [
    {
     "name": "stdout",
     "output_type": "stream",
     "text": [
      "(4, 4)\n",
      "{'A': array([[ 9.92485558e-01, -2.99813314e+00, -1.12808945e-01,\n",
      "        -1.60264629e+00],\n",
      "       [-4.68682233e-06,  9.86205035e-01,  4.78223562e-02,\n",
      "         3.84127498e-06],\n",
      "       [ 3.68444877e-06,  2.08328837e+00,  1.00891713e+00,\n",
      "        -4.35015900e-06],\n",
      "       [ 1.35207279e-07,  5.25813284e-02,  4.97944328e-02,\n",
      "         9.99999916e-01]]), 'B': array([[-0.08010699, -0.6325301 ],\n",
      "       [-0.02913533, -0.0142756 ],\n",
      "       [-0.86788509, -0.09172662],\n",
      "       [-0.02159128, -0.00218126]]), 'C': array([[0, 1, 0, 0],\n",
      "       [0, 0, 0, 1]])}\n"
     ]
    }
   ],
   "source": [
    "Ompc = rempc.options_qpmpclti2f()\n",
    "Pmpc = {'A' : Ad, 'B' : Bd, 'C' : Cd}\n",
    "print(Pmpc['A'].shape)\n",
    "print(Pmpc)"
   ]
  }
 ],
 "metadata": {
  "kernelspec": {
   "display_name": "Python 3",
   "language": "python",
   "name": "python3"
  },
  "language_info": {
   "codemirror_mode": {
    "name": "ipython",
    "version": 3
   },
   "file_extension": ".py",
   "mimetype": "text/x-python",
   "name": "python",
   "nbconvert_exporter": "python",
   "pygments_lexer": "ipython3",
   "version": "3.8.10"
  }
 },
 "nbformat": 4,
 "nbformat_minor": 4
}
