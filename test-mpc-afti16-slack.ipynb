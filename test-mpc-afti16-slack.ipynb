{
 "cells": [
  {
   "cell_type": "code",
   "execution_count": 57,
   "metadata": {},
   "outputs": [],
   "source": [
    "#\n",
    "# Demonstration of low-overhead flexible MPC code on the unstable \"F16\" test problem.\n",
    "# Two outputs are supposed to approach their respective reference values while at the same time\n",
    "# respect hard input contraints and a softened constraint on the first output. Softening makes\n",
    "# the problem feasible at all times but adds slack variable dimensions to the MPC formulation.\n",
    "#\n",
    "# It is easy to pack the problem into a \"problem dict\" P.\n",
    "# Each solve uses the provided P with no memory of past solves.\n",
    "# Therefore it is straightforward to use the solver in adaptive control setups.\n",
    "#\n",
    "\n",
    "import numpy as np\n",
    "import matplotlib.pyplot as plt\n",
    "from scipy.signal import cont2discrete\n",
    "import rempc"
   ]
  },
  {
   "cell_type": "code",
   "execution_count": 70,
   "metadata": {},
   "outputs": [],
   "source": [
    "# Define continuous-time system matrices\n",
    "Ac = np.array([[-.151,-60.5651,0,-32.174],\n",
    "               [-.0001,-1.3411,.9929,0],\n",
    "               [.00018,43.2541,-.86939,0],\n",
    "               [0,0,1,0]])\n",
    "\n",
    "Bc = np.array([[-2.516,-13.136],\n",
    "               [-.1689,-.2514],\n",
    "               [-17.251,-1.5766],\n",
    "               [0,0]])\n",
    "\n",
    "Cc = np.array([[0,1,0,0],\n",
    "               [0,0,0,1]])\n",
    "\n",
    "Dc = np.array([[0.0,0.0],\n",
    "               [0.0,0.0]])\n",
    "\n",
    "# Discretization time Ts, and simulation stop time \n",
    "Ts = 0.05\n",
    "Tstop = 12.0\n",
    "\n",
    "# Zero-order hold --> discrete time system\n",
    "dtsys = cont2discrete((Ac, Bc, Cc, Dc), Ts)\n",
    "Ad, Bd, Cd, Dd = dtsys[0], dtsys[1], dtsys[2], dtsys[3]\n",
    "assert np.all(Dd == 0.0)"
   ]
  },
  {
   "cell_type": "code",
   "execution_count": 76,
   "metadata": {},
   "outputs": [
    {
     "name": "stdout",
     "output_type": "stream",
     "text": [
      "dict_keys(['verbosity', 'maxiters', 'ep', 'eta', 'expl_sparse', 'chol_update', 'blas_suite', 'refinement'])\n",
      "dict_keys(['A', 'B', 'C', 'D', 'n', 'w', 'r', 'x', 'W', 'Qx', 'R', 'F1', 'F2', 'f3', 'sc', 'xreturn', 'ureturn', 'sreturn'])\n"
     ]
    }
   ],
   "source": [
    "# Standard options dict\n",
    "Ompc = rempc.options_qpmpclti2f()\n",
    "print(Ompc.keys())\n",
    "\n",
    "# Setup LTI/MPC problem dict\n",
    "Pmpc = {'A' : Ad, 'B' : Bd, 'C' : Cd, 'D' : Dd}\n",
    "\n",
    "# Length of horizon: 0..n\n",
    "Pmpc.update({'n' : int(15)})\n",
    "\n",
    "Pmpc['w'] = np.array([[0.0]])  # dynamics bias term\n",
    "\n",
    "y2ref = 10\n",
    "Pmpc['r'] = np.array([0, y2ref], dtype = float).reshape(2, 1)\n",
    "Pmpc['x'] = np.zeros((4, 1))  # this will be edited each time step\n",
    "Pmpc['W'] = np.array([[1.0]])\n",
    "Pmpc['Qx'] = np.array([[1.0e-6]])\n",
    "Pmpc['R'] = np.array([[1.0e-3]])\n",
    "\n",
    "# the state constraints are essential for this problem\n",
    "# both inputs are box-bounded abs(.)<=25\n",
    "umax = 25.0\n",
    "umin = -25.0\n",
    "\n",
    "# and the output y2 is boxed such that -1/2<=y2<=1/2\n",
    "y1max = 0.5 \n",
    "y1min = -0.5\n",
    "\n",
    "# F1*x + F2*u <= f3\n",
    "Pmpc['F1'] = np.vstack((np.zeros((2, 4)), np.zeros((2, 4)), Pmpc['C'][0, :], -1.0 * Pmpc['C'][0, :]))\n",
    "Pmpc['F2'] = np.vstack((np.eye(2), -1.0 * np.eye(2), np.zeros((2, 2))))\n",
    "Pmpc['f3'] = np.array([umax, umax, -umin, -umin, y1max, -y1min]).reshape(6, 1)\n",
    "\n",
    "# Specify constraint softening for rows 5 and 6 (0-based: 4, 5)\n",
    "# (corresponding to the y1 limits); this is indicated\n",
    "# by positive elements in the .sc vector (the respective slack costs).\n",
    "Pmpc['sc'] = np.array([-1, -1, -1, -1, 5e2, 5e2], dtype = float).reshape(6, 1)\n",
    "\n",
    "# Input noise (uncertainty/error) std about 1% of max allowed range.\n",
    "# Generate as w=B*d, d=randn(2,1)*sgmd;\n",
    "sgmd = 0.01 * (umax - umin) / 2\n",
    "\n",
    "# During the simulation; do not even bother\n",
    "# to return the full MPC solution; just output the first control sample.\n",
    "# And discard both state and slack trajectories from return dict.\n",
    "Pmpc['xreturn'] = int(0) # do not return state trajectory prediction\n",
    "Pmpc['ureturn'] = int(1) # only return first control sample from solution path\n",
    "Pmpc['sreturn'] = int(0) # do not return slack variable\n",
    "\n",
    "print(Pmpc.keys())"
   ]
  },
  {
   "cell_type": "code",
   "execution_count": 77,
   "metadata": {},
   "outputs": [
    {
     "name": "stdout",
     "output_type": "stream",
     "text": [
      "Closed-loop simulating #240 time-steps with Ts=0.0500...\n",
      "\n",
      "done (avg. IPM iterations = 22.14).\n"
     ]
    }
   ],
   "source": [
    "# Start the control loop simulation run until Tstop\n",
    "kmax = int(np.ceil(Tstop / Ts))\n",
    "\n",
    "tsim = Ts * np.arange(kmax)\n",
    "xsim = np.tile(0.0, (kmax, 4))\n",
    "usim = np.tile(np.nan, (kmax, 2))\n",
    "ysim = np.tile(np.nan, (kmax, 2))\n",
    "rsim = np.tile(np.nan, (kmax, 2))\n",
    "wsim = np.tile(np.nan, (kmax, 4))\n",
    "tclk = np.tile(np.nan, (kmax, 3))\n",
    "itrs = np.tile(np.nan, (kmax, ))\n",
    "k = 0\n",
    "\n",
    "print('Closed-loop simulating #{} time-steps with Ts={:.4f}...\\n'.format(kmax, Ts))\n",
    "\n",
    "while True:\n",
    "  x0 = xsim[k, :]\n",
    "  ysim[k, :] = np.dot(Cd, x0)\n",
    "  Pmpc['x'] = x0.reshape((x0.size, 1))\n",
    "\n",
    "  if Pmpc['r'][1] == y2ref and np.abs(ysim[k, 1] - y2ref) / y2ref < 1.0e-2:\n",
    "    Pmpc['r'][1] = 0.0\n",
    "  elif Pmpc['r'][1] == 0.0 and np.abs(ysim[k, 1]) < 2.0e-2:\n",
    "    Pmpc['r'][1] = y2ref\n",
    "    \n",
    "  rsim[k, :] = Pmpc['r'].flatten()\n",
    "    \n",
    "  R1 = rempc.qpmpclti2f(Pmpc, Ompc)\n",
    "  assert R1['isconverged'] == 1\n",
    "    \n",
    "  itrs[k] = R1['iters']\n",
    "  tclk[k, 0] = R1['totalclock']\n",
    "  tclk[k, 1] = R1['solveclock']\n",
    "  tclk[k, 2] = R1['cholyclock']\n",
    "    \n",
    "  u0 = R1['utraj'][0, :]\n",
    "  d = sgmd * np.random.randn(2)\n",
    "  w = np.dot(Bd, d)\n",
    "  x1 = np.dot(Ad, x0) + np.dot(Bd, u0) + w  # evolve system; stochastic disturbance w and MPC control sample u0\n",
    "  usim[k, :] = u0.flatten()\n",
    "  wsim[k, :] = w.flatten()\n",
    "  k += 1\n",
    "  if k == kmax:\n",
    "    break;\n",
    "  xsim[k, :] = x1\n",
    "\n",
    "print('done (avg. IPM iterations = {:.2f}).'.format(np.mean(itrs)))"
   ]
  },
  {
   "cell_type": "code",
   "execution_count": 78,
   "metadata": {},
   "outputs": [
    {
     "data": {
      "image/png": "[encoded data removed]",
      "text/plain": [
       "<Figure size 432x288 with 1 Axes>"
      ]
     },
     "metadata": {
      "needs_background": "light"
     },
     "output_type": "display_data"
    }
   ],
   "source": [
    "plt.step(tsim, ysim[:, 0], label = 'y1')\n",
    "plt.step(tsim, ysim[:, 1], label = 'y2')\n",
    "plt.step(tsim, rsim[:, 0], label = 'ref1', alpha = 0.25)\n",
    "plt.step(tsim, rsim[:, 1], label = 'ref2', alpha = 0.25)\n",
    "plt.axhline(y1min, linestyle = '--', color = 'k')\n",
    "plt.axhline(y1max, linestyle = '--', color = 'k')\n",
    "plt.legend()\n",
    "plt.grid(True)\n",
    "plt.xlabel('time [sec]')\n",
    "plt.ylabel('system output')\n",
    "plt.title('Soft bound on Y1 with slack cost')\n",
    "plt.show()"
   ]
  },
  {
   "cell_type": "code",
   "execution_count": 79,
   "metadata": {
    "scrolled": true
   },
   "outputs": [
    {
     "data": {
      "image/png": "[encoded data removed]",
      "text/plain": [
       "<Figure size 432x288 with 1 Axes>"
      ]
     },
     "metadata": {
      "needs_background": "light"
     },
     "output_type": "display_data"
    }
   ],
   "source": [
    "plt.step(tsim, usim[:, 0], label = 'u1')\n",
    "plt.step(tsim, usim[:, 1], label = 'u2')\n",
    "plt.axhline(umin, linestyle = '--', color = 'k')\n",
    "plt.axhline(umax, linestyle = '--', color = 'k')\n",
    "plt.legend()\n",
    "plt.grid(True)\n",
    "plt.xlabel('time [sec]')\n",
    "plt.ylabel('system input')\n",
    "plt.title('Hard bounds on U1, U2')\n",
    "plt.show()"
   ]
  },
  {
   "cell_type": "code",
   "execution_count": 82,
   "metadata": {},
   "outputs": [
    {
     "name": "stdout",
     "output_type": "stream",
     "text": [
      "median solve time (per sample):  2.649 msec\n",
      "minimum solve time (per sample): 1.118 msec\n",
      "(sample time is 50.000 msec)\n"
     ]
    }
   ],
   "source": [
    "print('median solve time (per sample):  {:.3f} msec'.format(1.0e3 * np.median(tclk[0, :])))\n",
    "print('minimum solve time (per sample): {:.3f} msec'.format(1.0e3 * np.min(tclk[0, :])))\n",
    "print('(sample time is {:.3f} msec)'.format(1.0e3 * Ts))"
   ]
  }
 ],
 "metadata": {
  "kernelspec": {
   "display_name": "Python 3",
   "language": "python",
   "name": "python3"
  },
  "language_info": {
   "codemirror_mode": {
    "name": "ipython",
    "version": 3
   },
   "file_extension": ".py",
   "mimetype": "text/x-python",
   "name": "python",
   "nbconvert_exporter": "python",
   "pygments_lexer": "ipython3",
   "version": "3.8.10"
  }
 },
 "nbformat": 4,
 "nbformat_minor": 4
}
